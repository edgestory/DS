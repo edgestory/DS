{
 "cells": [
  {
   "cell_type": "code",
   "execution_count": 2,
   "metadata": {},
   "outputs": [
    {
     "name": "stdout",
     "output_type": "stream",
     "text": [
      "정경창\n"
     ]
    }
   ],
   "source": [
    "name = input()"
   ]
  },
  {
   "cell_type": "code",
   "execution_count": 4,
   "metadata": {},
   "outputs": [
    {
     "name": "stdout",
     "output_type": "stream",
     "text": [
      "정경창님! 안녕하세요!\n"
     ]
    }
   ],
   "source": [
    "print(name+'님! 안녕하세요!')"
   ]
  },
  {
   "cell_type": "code",
   "execution_count": 5,
   "metadata": {},
   "outputs": [
    {
     "name": "stdout",
     "output_type": "stream",
     "text": [
      "이름을 입력해주세요 :정경창\n"
     ]
    }
   ],
   "source": [
    "name = input('이름을 입력해주세요 :')"
   ]
  },
  {
   "cell_type": "code",
   "execution_count": 6,
   "metadata": {},
   "outputs": [
    {
     "name": "stdout",
     "output_type": "stream",
     "text": [
      "정경창님! 안녕하세요!\n"
     ]
    }
   ],
   "source": [
    "print(name + '님! 안녕하세요!')"
   ]
  },
  {
   "cell_type": "code",
   "execution_count": 7,
   "metadata": {},
   "outputs": [
    {
     "name": "stdout",
     "output_type": "stream",
     "text": [
      "나이를 입력해주세요!:32\n"
     ]
    }
   ],
   "source": [
    "age=input('나이를 입력해주세요!:')"
   ]
  },
  {
   "cell_type": "code",
   "execution_count": 9,
   "metadata": {},
   "outputs": [
    {
     "name": "stdout",
     "output_type": "stream",
     "text": [
      "28\n"
     ]
    }
   ],
   "source": [
    "print(int(age)-4)"
   ]
  },
  {
   "cell_type": "code",
   "execution_count": 10,
   "metadata": {},
   "outputs": [
    {
     "name": "stdout",
     "output_type": "stream",
     "text": [
      "이름을 입력해주세요:정경창\n",
      "나이를 입력해주세요:32\n",
      "안녕하세요 정경창님! 저는 처음에28살인 줄 알았어요!!\n"
     ]
    }
   ],
   "source": [
    "name = input('이름을 입력해주세요:')\n",
    "age = int(input('나이를 입력해주세요:'))\n",
    "print('안녕하세요',name +'님! 저는 처음에'+str(age -4)+'살인 줄 알았어요!!')"
   ]
  },
  {
   "cell_type": "code",
   "execution_count": 11,
   "metadata": {},
   "outputs": [
    {
     "name": "stdout",
     "output_type": "stream",
     "text": [
      "30\n"
     ]
    }
   ],
   "source": [
    "print(3 *10)"
   ]
  },
  {
   "cell_type": "code",
   "execution_count": 12,
   "metadata": {},
   "outputs": [
    {
     "name": "stdout",
     "output_type": "stream",
     "text": [
      "59049\n"
     ]
    }
   ],
   "source": [
    "print(3**10)"
   ]
  },
  {
   "cell_type": "code",
   "execution_count": 13,
   "metadata": {},
   "outputs": [
    {
     "name": "stdout",
     "output_type": "stream",
     "text": [
      "3\n"
     ]
    }
   ],
   "source": [
    "print(3 % 10)"
   ]
  },
  {
   "cell_type": "code",
   "execution_count": 14,
   "metadata": {},
   "outputs": [
    {
     "name": "stdout",
     "output_type": "stream",
     "text": [
      "1\n"
     ]
    }
   ],
   "source": [
    "print(3%2)"
   ]
  },
  {
   "cell_type": "code",
   "execution_count": 15,
   "metadata": {},
   "outputs": [
    {
     "name": "stdout",
     "output_type": "stream",
     "text": [
      "1.5\n"
     ]
    }
   ],
   "source": [
    "print(3/2)"
   ]
  },
  {
   "cell_type": "code",
   "execution_count": 16,
   "metadata": {},
   "outputs": [
    {
     "name": "stdout",
     "output_type": "stream",
     "text": [
      "1\n"
     ]
    }
   ],
   "source": [
    "print(3//2)"
   ]
  },
  {
   "cell_type": "code",
   "execution_count": 17,
   "metadata": {},
   "outputs": [
    {
     "name": "stdout",
     "output_type": "stream",
     "text": [
      "2.5\n"
     ]
    }
   ],
   "source": [
    "print(5/2)"
   ]
  },
  {
   "cell_type": "code",
   "execution_count": 18,
   "metadata": {},
   "outputs": [
    {
     "name": "stdout",
     "output_type": "stream",
     "text": [
      "2\n"
     ]
    }
   ],
   "source": [
    "print(5//2)"
   ]
  },
  {
   "cell_type": "code",
   "execution_count": 19,
   "metadata": {},
   "outputs": [
    {
     "name": "stdout",
     "output_type": "stream",
     "text": [
      "True\n"
     ]
    }
   ],
   "source": [
    "print(10>= 3)"
   ]
  },
  {
   "cell_type": "code",
   "execution_count": 20,
   "metadata": {},
   "outputs": [
    {
     "name": "stdout",
     "output_type": "stream",
     "text": [
      "False\n"
     ]
    }
   ],
   "source": [
    "print(10 <= 3)"
   ]
  },
  {
   "cell_type": "code",
   "execution_count": 21,
   "metadata": {},
   "outputs": [
    {
     "name": "stdout",
     "output_type": "stream",
     "text": [
      "False\n"
     ]
    }
   ],
   "source": [
    "print(10 ==3)"
   ]
  },
  {
   "cell_type": "code",
   "execution_count": 22,
   "metadata": {},
   "outputs": [
    {
     "name": "stdout",
     "output_type": "stream",
     "text": [
      "True\n"
     ]
    }
   ],
   "source": [
    "print(10 != 3)"
   ]
  },
  {
   "cell_type": "code",
   "execution_count": 23,
   "metadata": {},
   "outputs": [
    {
     "name": "stdout",
     "output_type": "stream",
     "text": [
      "True\n"
     ]
    }
   ],
   "source": [
    "print(3%2 ==1)"
   ]
  },
  {
   "cell_type": "code",
   "execution_count": 24,
   "metadata": {},
   "outputs": [
    {
     "name": "stdout",
     "output_type": "stream",
     "text": [
      "True\n"
     ]
    }
   ],
   "source": [
    "print(1==1 and 2!=1)"
   ]
  },
  {
   "cell_type": "code",
   "execution_count": 25,
   "metadata": {},
   "outputs": [
    {
     "name": "stdout",
     "output_type": "stream",
     "text": [
      "False\n"
     ]
    }
   ],
   "source": [
    "print(10 % 2 !=0 and 1+1 >0)"
   ]
  },
  {
   "cell_type": "code",
   "execution_count": 26,
   "metadata": {},
   "outputs": [
    {
     "name": "stdout",
     "output_type": "stream",
     "text": [
      "0\n"
     ]
    }
   ],
   "source": [
    "print(10%2)"
   ]
  },
  {
   "cell_type": "code",
   "execution_count": 27,
   "metadata": {},
   "outputs": [
    {
     "name": "stdout",
     "output_type": "stream",
     "text": [
      "False\n"
     ]
    }
   ],
   "source": [
    "print(10 < 5 or 10==5)"
   ]
  },
  {
   "cell_type": "code",
   "execution_count": 28,
   "metadata": {},
   "outputs": [
    {
     "name": "stdout",
     "output_type": "stream",
     "text": [
      "True\n"
     ]
    }
   ],
   "source": [
    "print(10%2 !=0 or 1+1>0)"
   ]
  },
  {
   "cell_type": "code",
   "execution_count": 30,
   "metadata": {},
   "outputs": [],
   "source": [
    "import random as rn"
   ]
  },
  {
   "cell_type": "code",
   "execution_count": 34,
   "metadata": {},
   "outputs": [
    {
     "data": {
      "text/plain": [
       "3"
      ]
     },
     "execution_count": 34,
     "metadata": {},
     "output_type": "execute_result"
    }
   ],
   "source": [
    "dice = rn.randint(1,6)\n",
    "dice"
   ]
  },
  {
   "cell_type": "code",
   "execution_count": 35,
   "metadata": {},
   "outputs": [
    {
     "name": "stdout",
     "output_type": "stream",
     "text": [
      "1.4142135623730951\n"
     ]
    }
   ],
   "source": [
    "import math\n",
    "print(math.sqrt(2))"
   ]
  },
  {
   "cell_type": "code",
   "execution_count": 36,
   "metadata": {},
   "outputs": [
    {
     "name": "stdout",
     "output_type": "stream",
     "text": [
      "파\n",
      "이\n",
      "쏭\n"
     ]
    }
   ],
   "source": [
    "name = '파이쏭'\n",
    "for i in name :\n",
    "    print(i)"
   ]
  },
  {
   "cell_type": "code",
   "execution_count": 38,
   "metadata": {},
   "outputs": [
    {
     "name": "stdout",
     "output_type": "stream",
     "text": [
      "쵸파\n",
      "루피\n",
      "상디\n",
      "조로\n"
     ]
    }
   ],
   "source": [
    "names = ['쵸파','루피','상디','조로']\n",
    "for name in names :\n",
    "    print(name)"
   ]
  },
  {
   "cell_type": "code",
   "execution_count": 39,
   "metadata": {},
   "outputs": [
    {
     "name": "stdout",
     "output_type": "stream",
     "text": [
      "0\n",
      "1\n",
      "4\n",
      "9\n"
     ]
    }
   ],
   "source": [
    "for i in [0,1,2,3]:\n",
    "    print(i**2)"
   ]
  },
  {
   "cell_type": "code",
   "execution_count": 40,
   "metadata": {},
   "outputs": [
    {
     "name": "stdout",
     "output_type": "stream",
     "text": [
      "0\n",
      "1\n",
      "4\n",
      "9\n",
      "16\n",
      "25\n",
      "36\n",
      "49\n",
      "64\n",
      "81\n",
      "100\n",
      "121\n",
      "144\n",
      "169\n",
      "196\n",
      "225\n",
      "256\n",
      "289\n",
      "324\n",
      "361\n",
      "400\n",
      "441\n",
      "484\n",
      "529\n",
      "576\n",
      "625\n",
      "676\n",
      "729\n",
      "784\n",
      "841\n",
      "900\n",
      "961\n",
      "1024\n",
      "1089\n",
      "1156\n",
      "1225\n",
      "1296\n",
      "1369\n",
      "1444\n",
      "1521\n",
      "1600\n",
      "1681\n",
      "1764\n",
      "1849\n",
      "1936\n",
      "2025\n",
      "2116\n",
      "2209\n",
      "2304\n",
      "2401\n",
      "2500\n",
      "2601\n",
      "2704\n",
      "2809\n",
      "2916\n",
      "3025\n",
      "3136\n",
      "3249\n",
      "3364\n",
      "3481\n",
      "3600\n",
      "3721\n",
      "3844\n",
      "3969\n",
      "4096\n",
      "4225\n",
      "4356\n",
      "4489\n",
      "4624\n",
      "4761\n",
      "4900\n",
      "5041\n",
      "5184\n",
      "5329\n",
      "5476\n",
      "5625\n",
      "5776\n",
      "5929\n",
      "6084\n",
      "6241\n",
      "6400\n",
      "6561\n",
      "6724\n",
      "6889\n",
      "7056\n",
      "7225\n",
      "7396\n",
      "7569\n",
      "7744\n",
      "7921\n",
      "8100\n",
      "8281\n",
      "8464\n",
      "8649\n",
      "8836\n",
      "9025\n",
      "9216\n",
      "9409\n",
      "9604\n",
      "9801\n"
     ]
    }
   ],
   "source": [
    "for i in range(100):\n",
    "    print(i ** 2)"
   ]
  },
  {
   "cell_type": "code",
   "execution_count": 41,
   "metadata": {},
   "outputs": [
    {
     "data": {
      "text/plain": [
       "range(0, 100)"
      ]
     },
     "execution_count": 41,
     "metadata": {},
     "output_type": "execute_result"
    }
   ],
   "source": [
    "range(100)"
   ]
  },
  {
   "cell_type": "code",
   "execution_count": 42,
   "metadata": {},
   "outputs": [
    {
     "name": "stdout",
     "output_type": "stream",
     "text": [
      "나는 파이썬왕이 될 사람이다!\n",
      "나는 파이썬왕이 될 사람이다!\n",
      "나는 파이썬왕이 될 사람이다!\n",
      "나는 파이썬왕이 될 사람이다!\n",
      "나는 파이썬왕이 될 사람이다!\n",
      "나는 파이썬왕이 될 사람이다!\n",
      "나는 파이썬왕이 될 사람이다!\n",
      "나는 파이썬왕이 될 사람이다!\n",
      "나는 파이썬왕이 될 사람이다!\n",
      "나는 파이썬왕이 될 사람이다!\n",
      "나는 파이썬왕이 될 사람이다!\n",
      "나는 파이썬왕이 될 사람이다!\n",
      "나는 파이썬왕이 될 사람이다!\n",
      "나는 파이썬왕이 될 사람이다!\n",
      "나는 파이썬왕이 될 사람이다!\n",
      "나는 파이썬왕이 될 사람이다!\n",
      "나는 파이썬왕이 될 사람이다!\n",
      "나는 파이썬왕이 될 사람이다!\n",
      "나는 파이썬왕이 될 사람이다!\n",
      "나는 파이썬왕이 될 사람이다!\n",
      "나는 파이썬왕이 될 사람이다!\n",
      "나는 파이썬왕이 될 사람이다!\n",
      "나는 파이썬왕이 될 사람이다!\n",
      "나는 파이썬왕이 될 사람이다!\n",
      "나는 파이썬왕이 될 사람이다!\n",
      "나는 파이썬왕이 될 사람이다!\n",
      "나는 파이썬왕이 될 사람이다!\n",
      "나는 파이썬왕이 될 사람이다!\n",
      "나는 파이썬왕이 될 사람이다!\n",
      "나는 파이썬왕이 될 사람이다!\n",
      "나는 파이썬왕이 될 사람이다!\n",
      "나는 파이썬왕이 될 사람이다!\n",
      "나는 파이썬왕이 될 사람이다!\n",
      "나는 파이썬왕이 될 사람이다!\n",
      "나는 파이썬왕이 될 사람이다!\n",
      "나는 파이썬왕이 될 사람이다!\n",
      "나는 파이썬왕이 될 사람이다!\n",
      "나는 파이썬왕이 될 사람이다!\n",
      "나는 파이썬왕이 될 사람이다!\n",
      "나는 파이썬왕이 될 사람이다!\n",
      "나는 파이썬왕이 될 사람이다!\n",
      "나는 파이썬왕이 될 사람이다!\n",
      "나는 파이썬왕이 될 사람이다!\n",
      "나는 파이썬왕이 될 사람이다!\n",
      "나는 파이썬왕이 될 사람이다!\n",
      "나는 파이썬왕이 될 사람이다!\n",
      "나는 파이썬왕이 될 사람이다!\n",
      "나는 파이썬왕이 될 사람이다!\n",
      "나는 파이썬왕이 될 사람이다!\n",
      "나는 파이썬왕이 될 사람이다!\n",
      "나는 파이썬왕이 될 사람이다!\n",
      "나는 파이썬왕이 될 사람이다!\n",
      "나는 파이썬왕이 될 사람이다!\n",
      "나는 파이썬왕이 될 사람이다!\n",
      "나는 파이썬왕이 될 사람이다!\n",
      "나는 파이썬왕이 될 사람이다!\n",
      "나는 파이썬왕이 될 사람이다!\n",
      "나는 파이썬왕이 될 사람이다!\n",
      "나는 파이썬왕이 될 사람이다!\n",
      "나는 파이썬왕이 될 사람이다!\n",
      "나는 파이썬왕이 될 사람이다!\n",
      "나는 파이썬왕이 될 사람이다!\n",
      "나는 파이썬왕이 될 사람이다!\n",
      "나는 파이썬왕이 될 사람이다!\n",
      "나는 파이썬왕이 될 사람이다!\n",
      "나는 파이썬왕이 될 사람이다!\n",
      "나는 파이썬왕이 될 사람이다!\n",
      "나는 파이썬왕이 될 사람이다!\n",
      "나는 파이썬왕이 될 사람이다!\n",
      "나는 파이썬왕이 될 사람이다!\n",
      "나는 파이썬왕이 될 사람이다!\n",
      "나는 파이썬왕이 될 사람이다!\n",
      "나는 파이썬왕이 될 사람이다!\n",
      "나는 파이썬왕이 될 사람이다!\n",
      "나는 파이썬왕이 될 사람이다!\n",
      "나는 파이썬왕이 될 사람이다!\n",
      "나는 파이썬왕이 될 사람이다!\n",
      "나는 파이썬왕이 될 사람이다!\n",
      "나는 파이썬왕이 될 사람이다!\n",
      "나는 파이썬왕이 될 사람이다!\n",
      "나는 파이썬왕이 될 사람이다!\n",
      "나는 파이썬왕이 될 사람이다!\n",
      "나는 파이썬왕이 될 사람이다!\n",
      "나는 파이썬왕이 될 사람이다!\n",
      "나는 파이썬왕이 될 사람이다!\n",
      "나는 파이썬왕이 될 사람이다!\n",
      "나는 파이썬왕이 될 사람이다!\n",
      "나는 파이썬왕이 될 사람이다!\n",
      "나는 파이썬왕이 될 사람이다!\n",
      "나는 파이썬왕이 될 사람이다!\n",
      "나는 파이썬왕이 될 사람이다!\n",
      "나는 파이썬왕이 될 사람이다!\n",
      "나는 파이썬왕이 될 사람이다!\n",
      "나는 파이썬왕이 될 사람이다!\n",
      "나는 파이썬왕이 될 사람이다!\n",
      "나는 파이썬왕이 될 사람이다!\n",
      "나는 파이썬왕이 될 사람이다!\n",
      "나는 파이썬왕이 될 사람이다!\n",
      "나는 파이썬왕이 될 사람이다!\n",
      "나는 파이썬왕이 될 사람이다!\n"
     ]
    }
   ],
   "source": [
    "for i in range(100):\n",
    "    print('나는 파이썬왕이 될 사람이다!')"
   ]
  },
  {
   "cell_type": "code",
   "execution_count": 43,
   "metadata": {},
   "outputs": [
    {
     "name": "stdout",
     "output_type": "stream",
     "text": [
      "안녕하세요?\n"
     ]
    }
   ],
   "source": [
    "if 10> 0 :\n",
    "    print('안녕하세요?')"
   ]
  },
  {
   "cell_type": "code",
   "execution_count": 44,
   "metadata": {},
   "outputs": [
    {
     "name": "stdout",
     "output_type": "stream",
     "text": [
      "안녕하세요?\n"
     ]
    }
   ],
   "source": [
    "if 10 != 0 and 5%2 == 1:\n",
    "    print('안녕하세요?')"
   ]
  },
  {
   "cell_type": "code",
   "execution_count": 45,
   "metadata": {},
   "outputs": [
    {
     "name": "stdout",
     "output_type": "stream",
     "text": [
      "비밀번호 4자리를 입력하세요:1531\n",
      "비밀번호가 일치합니다\n"
     ]
    }
   ],
   "source": [
    "passwd = int(input('비밀번호 4자리를 입력하세요:'))\n",
    "if passwd == 1531:\n",
    "    print('비밀번호가 일치합니다')"
   ]
  },
  {
   "cell_type": "code",
   "execution_count": 46,
   "metadata": {},
   "outputs": [
    {
     "name": "stdout",
     "output_type": "stream",
     "text": [
      "비밀번호 4자리를 입력하세요:1345\n",
      "____________________\n"
     ]
    }
   ],
   "source": [
    "passwd = int(input('비밀번호 4자리를 입력하세요:'))\n",
    "if passwd ==1531:\n",
    "    print('비밀번호가 일치합니다')\n",
    "else :\n",
    "    print('____________________')"
   ]
  },
  {
   "cell_type": "code",
   "execution_count": 47,
   "metadata": {},
   "outputs": [
    {
     "name": "stdout",
     "output_type": "stream",
     "text": [
      "[소름끼치도록 놀라운 심리테스트]\n",
      "당신이 좋아하는 음식을 입력해주세요:짜장면\n",
      "당신은 짜장면을 좋아하는 사람입니다\n"
     ]
    }
   ],
   "source": [
    "print('[소름끼치도록 놀라운 심리테스트]')\n",
    "menu = input('당신이 좋아하는 음식을 입력해주세요:')\n",
    "if menu == '짜장면':\n",
    "    print('당신은 짜장면을 좋아하는 사람입니다')\n",
    "elif menu == '아이스크림':\n",
    "    print('당신은 아이스크림을 좋아하는 사람입니다.')\n",
    "elif menu == '사탕':\n",
    "    print('당신은 사탕을 좋아하는 사람입니다.')\n",
    "else :\n",
    "    print('당신은 짜장면과 아이스크림과 사탕을 좋아하지 않는 사람입니다.')"
   ]
  },
  {
   "cell_type": "code",
   "execution_count": 48,
   "metadata": {},
   "outputs": [
    {
     "name": "stdout",
     "output_type": "stream",
     "text": [
      "0\n",
      "1\n",
      "4\n",
      "9\n"
     ]
    }
   ],
   "source": [
    "for i in [0,1,2,3]:\n",
    "    print(i ** 2)"
   ]
  },
  {
   "cell_type": "code",
   "execution_count": 49,
   "metadata": {},
   "outputs": [
    {
     "name": "stdout",
     "output_type": "stream",
     "text": [
      "쵸파\n",
      "루피\n",
      "상디\n",
      "조로\n"
     ]
    }
   ],
   "source": [
    "names = ['쵸파','루피','상디','조로']\n",
    "for name in names :\n",
    "    print(name)"
   ]
  },
  {
   "cell_type": "code",
   "execution_count": 50,
   "metadata": {},
   "outputs": [
    {
     "name": "stdout",
     "output_type": "stream",
     "text": [
      "루피\n"
     ]
    }
   ],
   "source": [
    "names = ['초파','루피','상디','조로']\n",
    "print(names[1])"
   ]
  },
  {
   "cell_type": "code",
   "execution_count": 51,
   "metadata": {},
   "outputs": [
    {
     "name": "stdout",
     "output_type": "stream",
     "text": [
      "초파\n"
     ]
    }
   ],
   "source": [
    "print(names[0])"
   ]
  },
  {
   "cell_type": "code",
   "execution_count": 52,
   "metadata": {},
   "outputs": [
    {
     "name": "stdout",
     "output_type": "stream",
     "text": [
      "조로\n"
     ]
    }
   ],
   "source": [
    "names = ['초파','루피','상디','조로']\n",
    "print(names[-1])"
   ]
  },
  {
   "cell_type": "code",
   "execution_count": 53,
   "metadata": {},
   "outputs": [
    {
     "name": "stdout",
     "output_type": "stream",
     "text": [
      "['초파', '루피']\n",
      "['루피', '상디']\n",
      "['루피', '상디', '조로']\n",
      "['초파', '루피', '상디', '조로']\n"
     ]
    }
   ],
   "source": [
    "names = ['초파','루피','상디','조로']\n",
    "print(names[0:2])\n",
    "print(names[1:3])\n",
    "print(names[1:])\n",
    "print(names[:])"
   ]
  },
  {
   "cell_type": "code",
   "execution_count": 54,
   "metadata": {},
   "outputs": [
    {
     "name": "stdout",
     "output_type": "stream",
     "text": [
      "['초파', '루피', '상디', '조로', '나미']\n"
     ]
    }
   ],
   "source": [
    "names = ['초파','루피','상디','조로']\n",
    "names.append('나미')\n",
    "print(names)"
   ]
  },
  {
   "cell_type": "code",
   "execution_count": 55,
   "metadata": {},
   "outputs": [
    {
     "name": "stdout",
     "output_type": "stream",
     "text": [
      "5\n"
     ]
    }
   ],
   "source": [
    "print(len(names))"
   ]
  },
  {
   "cell_type": "code",
   "execution_count": 56,
   "metadata": {},
   "outputs": [
    {
     "name": "stdout",
     "output_type": "stream",
     "text": [
      "27\n"
     ]
    }
   ],
   "source": [
    "print(len('data analysisi for everyone'))"
   ]
  },
  {
   "cell_type": "code",
   "execution_count": 57,
   "metadata": {},
   "outputs": [
    {
     "name": "stdout",
     "output_type": "stream",
     "text": [
      "해적왕 왔나요~?\n"
     ]
    }
   ],
   "source": [
    "names = ['쵸파','루피','상디','조로']\n",
    "names.append('해적왕')\n",
    "for name in names :\n",
    "    if len(name) > 2 :\n",
    "        print(name, '왔나요~?')"
   ]
  },
  {
   "cell_type": "code",
   "execution_count": 58,
   "metadata": {},
   "outputs": [
    {
     "data": {
      "text/plain": [
       "3"
      ]
     },
     "execution_count": 58,
     "metadata": {},
     "output_type": "execute_result"
    }
   ],
   "source": [
    "len('해적왕')"
   ]
  },
  {
   "cell_type": "code",
   "execution_count": null,
   "metadata": {},
   "outputs": [],
   "source": []
  }
 ],
 "metadata": {
  "kernelspec": {
   "display_name": "Python 3",
   "language": "python",
   "name": "python3"
  },
  "language_info": {
   "codemirror_mode": {
    "name": "ipython",
    "version": 3
   },
   "file_extension": ".py",
   "mimetype": "text/x-python",
   "name": "python",
   "nbconvert_exporter": "python",
   "pygments_lexer": "ipython3",
   "version": "3.7.3"
  }
 },
 "nbformat": 4,
 "nbformat_minor": 2
}
