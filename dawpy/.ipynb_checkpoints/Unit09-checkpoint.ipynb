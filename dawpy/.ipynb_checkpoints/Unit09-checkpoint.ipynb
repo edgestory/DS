{
 "cells": [
  {
   "cell_type": "code",
   "execution_count": null,
   "metadata": {},
   "outputs": [],
   "source": [
    "import csv\n",
    "f= open('gender.csv','r',encoding='cp949')\n",
    "data = csv.reader(f,delimiter=',')\n",
    "\n",
    "m=[]\n",
    "f=[]\n",
    "\n",
    "name = input('찾고 싶은 지역의 이름을 알려주세요:')\n",
    "for row in data:\n",
    "    if area in row[0]:\n",
    "        for i in range(0,101):\n",
    "            m.append(-int(row[i+3]))\n",
    "            f.append(int(row[-(i+1)]))\n",
    "            \n",
    "import matplotlib.pyplot as plt\n",
    "\n",
    "plt.style.use('ggplot')\n",
    "plt.figure(figsize=(10,5), dpi=300)\n",
    "plt.rc('font', family='Malgun Gothic')\n",
    "plt.rcParams['axes.unicode_minus']=False\n",
    "plt.title(name+' 지역의 남녀 성별 인구 분포')\n",
    "plt.barh(range(101),m, label='남성')\n",
    "plt.barh(range(101),f,label='여성')\n",
    "plt.legend()\n",
    "plt.show()"
   ]
  },
  {
   "cell_type": "code",
   "execution_count": null,
   "metadata": {},
   "outputs": [],
   "source": []
  }
 ],
 "metadata": {
  "kernelspec": {
   "display_name": "Python 3",
   "language": "python",
   "name": "python3"
  },
  "language_info": {
   "codemirror_mode": {
    "name": "ipython",
    "version": 3
   },
   "file_extension": ".py",
   "mimetype": "text/x-python",
   "name": "python",
   "nbconvert_exporter": "python",
   "pygments_lexer": "ipython3",
   "version": "3.7.3"
  }
 },
 "nbformat": 4,
 "nbformat_minor": 2
}
