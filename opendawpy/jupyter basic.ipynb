{
 "cells": [
  {
   "cell_type": "markdown",
   "metadata": {},
   "source": [
    "# 주피터 노트북 사용법\n",
    "\n",
    "* shift + Enter 키를 누르면 셀이 실행되고 커서가 다음셀로 이동합니다.\n",
    "* Enter 키를 누르면 다시 편집상태로 돌아옵니다.\n",
    "* ESC 키를 누르고\n",
    "    * a 키를 누르면 위에 셀이 추가됩니다.\n",
    "    * b 키를 누르면 아래에 셀이 추가 됩니다.\n",
    "    * dd키를 누르면 셀이 삭제됩니다.\n",
    "    * m 키를 누르면 문서 셀로 변경 됩니다.\n",
    "    * y 키를 누르면 코드 셀로 변경 됩니다.\n",
    "    * h 키를 누르면 단축키 확인\n",
    "    \n",
    "## 마크다운(Markdown)이란?\n",
    "* 코드와 함께 문서화를 하실 수 있습니다.\n",
    "* 문서화를 할 수 있는 '문법'입니다.\n",
    "\n",
    "```\n",
    "여러줄의 설명을\n",
    "줄바꿈으로 쓰고자할때\n",
    "```"
   ]
  },
  {
   "cell_type": "code",
   "execution_count": 1,
   "metadata": {},
   "outputs": [
    {
     "name": "stdout",
     "output_type": "stream",
     "text": [
      "Collecting jupter_contrib_nbextensions\n"
     ]
    },
    {
     "name": "stderr",
     "output_type": "stream",
     "text": [
      "  ERROR: Could not find a version that satisfies the requirement jupter_contrib_nbextensions (from versions: none)\n",
      "ERROR: No matching distribution found for jupter_contrib_nbextensions\n"
     ]
    }
   ],
   "source": []
  },
  {
   "cell_type": "code",
   "execution_count": null,
   "metadata": {},
   "outputs": [],
   "source": []
  }
 ],
 "metadata": {
  "kernelspec": {
   "display_name": "Python 3",
   "language": "python",
   "name": "python3"
  },
  "language_info": {
   "codemirror_mode": {
    "name": "ipython",
    "version": 3
   },
   "file_extension": ".py",
   "mimetype": "text/x-python",
   "name": "python",
   "nbconvert_exporter": "python",
   "pygments_lexer": "ipython3",
   "version": "3.7.6"
  }
 },
 "nbformat": 4,
 "nbformat_minor": 4
}
