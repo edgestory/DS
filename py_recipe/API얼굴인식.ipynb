{
 "cells": [
  {
   "cell_type": "code",
   "execution_count": 8,
   "metadata": {},
   "outputs": [
    {
     "name": "stdout",
     "output_type": "stream",
     "text": [
      "{\"info\":{\"size\":{\"width\":1400,\"height\":933},\"faceCount\":1},\"faces\":[{\"celebrity\":{\"value\":\"문재인\",\"confidence\":1.0}}]}\n",
      "{'faces': [{'celebrity': {'confidence': 1.0, 'value': '문재인'}}],\n",
      " 'info': {'faceCount': 1, 'size': {'height': 933, 'width': 1400}}}\n",
      "<class 'dict'>\n",
      "1\n"
     ]
    }
   ],
   "source": [
    "import os\n",
    "import sys\n",
    "import requests\n",
    "from pprint import pprint\n",
    "import json\n",
    "\n",
    "client_id = \"_Mdi_ViEB9M8vnAs3cjZ\"\n",
    "client_secret = \"cfVaPEhglz\"\n",
    "#url = \"https://openapi.naver.com/v1/vision/face\" #얼굴감지\n",
    "url = \"https://openapi.naver.com/v1/vision/celebrity\" # 유명인 얼굴인식\n",
    "files = {'image': open('face.jpg', 'rb')}\n",
    "headers = {'X-Naver-Client-Id': client_id, 'X-Naver-Client-Secret': client_secret }\n",
    "response = requests.post(url,  files=files, headers=headers)\n",
    "rescode = response.status_code\n",
    "if(rescode==200):\n",
    "    print (response.text)\n",
    "    data = json.loads(response.text)\n",
    "    pprint(data)\n",
    "    print(type(data))\n",
    "    \n",
    "    print(data['info']['faceCount'])\n",
    "else:\n",
    "    print(\"Error Code:\" + rescode)"
   ]
  },
  {
   "cell_type": "code",
   "execution_count": null,
   "metadata": {},
   "outputs": [],
   "source": []
  }
 ],
 "metadata": {
  "kernelspec": {
   "display_name": "Python 3",
   "language": "python",
   "name": "python3"
  },
  "language_info": {
   "codemirror_mode": {
    "name": "ipython",
    "version": 3
   },
   "file_extension": ".py",
   "mimetype": "text/x-python",
   "name": "python",
   "nbconvert_exporter": "python",
   "pygments_lexer": "ipython3",
   "version": "3.7.6"
  }
 },
 "nbformat": 4,
 "nbformat_minor": 4
}
