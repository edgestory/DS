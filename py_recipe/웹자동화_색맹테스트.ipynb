{
 "cells": [
  {
   "cell_type": "code",
   "execution_count": 42,
   "metadata": {},
   "outputs": [],
   "source": [
    "from selenium import webdriver\n",
    "from pprint import pprint\n",
    "import time\n",
    "\n",
    "driver = webdriver.Chrome('chromedriver')\n",
    "driver.get('http://zzzscore.com/color/')\n",
    "driver.implicitly_wait(300)"
   ]
  },
  {
   "cell_type": "code",
   "execution_count": 43,
   "metadata": {},
   "outputs": [
    {
     "name": "stdout",
     "output_type": "stream",
     "text": [
      "230\n"
     ]
    }
   ],
   "source": [
    "btns = driver.find_elements_by_xpath('//*[@id=\"grid\"]/div')\n",
    "print(len(btns))"
   ]
  },
  {
   "cell_type": "code",
   "execution_count": 44,
   "metadata": {},
   "outputs": [],
   "source": [
    "#print(btns[1].value_of_css_property('background-color'))\n",
    "from collections import Counter"
   ]
  },
  {
   "cell_type": "code",
   "execution_count": 39,
   "metadata": {},
   "outputs": [],
   "source": [
    "def analysis():\n",
    "    btns_rgba = [btn.value_of_css_property('background-color') for btn in btns]\n",
    "    #pprint(btns_rgba)\n",
    "    \n",
    "    result = Counter(btns_rgba)\n",
    "    #pprint(result)\n",
    "    \n",
    "    for key, value in result.items():\n",
    "        if value == 1:\n",
    "            answer = key\n",
    "            break\n",
    "    else:\n",
    "        answer = None\n",
    "        print('정답을 찾을 수 없습니다.')\n",
    "     \n",
    "    #정답클릭\n",
    "    if answer :\n",
    "        index = btns_rgba.index(answer)\n",
    "        btns[index].click()"
   ]
  },
  {
   "cell_type": "code",
   "execution_count": 45,
   "metadata": {
    "scrolled": true
   },
   "outputs": [],
   "source": [
    "import time"
   ]
  },
  {
   "cell_type": "code",
   "execution_count": 41,
   "metadata": {},
   "outputs": [],
   "source": [
    "start = time.time()\n",
    "while time.time()-start <= 60:\n",
    "    analysis()"
   ]
  },
  {
   "cell_type": "code",
   "execution_count": 47,
   "metadata": {},
   "outputs": [],
   "source": [
    "#소스코드에서 정답 찾기\n",
    "start = time.time()\n",
    "\n",
    "while time.time() - start <=60 :\n",
    "    try:\n",
    "        btn = driver.find_element_by_class_name(\"main\")\n",
    "        btn.click()\n",
    "    except:\n",
    "        pass"
   ]
  },
  {
   "cell_type": "code",
   "execution_count": null,
   "metadata": {},
   "outputs": [],
   "source": []
  }
 ],
 "metadata": {
  "kernelspec": {
   "display_name": "Python 3",
   "language": "python",
   "name": "python3"
  },
  "language_info": {
   "codemirror_mode": {
    "name": "ipython",
    "version": 3
   },
   "file_extension": ".py",
   "mimetype": "text/x-python",
   "name": "python",
   "nbconvert_exporter": "python",
   "pygments_lexer": "ipython3",
   "version": "3.7.6"
  }
 },
 "nbformat": 4,
 "nbformat_minor": 4
}
