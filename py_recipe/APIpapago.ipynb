{
 "cells": [
  {
   "cell_type": "code",
   "execution_count": 12,
   "metadata": {},
   "outputs": [
    {
     "name": "stdout",
     "output_type": "stream",
     "text": [
      "{\"message\":{\"@type\":\"response\",\"@service\":\"naverservice.nmt.proxy\",\"@version\":\"1.0.0\",\"result\":{\"srcLangType\":\"ko\",\"tarLangType\":\"vi\",\"translatedText\":\"Cảm ơn.\\nXin chào.\\nhân hạnh\",\"engineType\":\"UNDEF_MULTI_SENTENCE\",\"pivot\":null}}}\n",
      "{'message': {'@service': 'naverservice.nmt.proxy',\n",
      "             '@type': 'response',\n",
      "             '@version': '1.0.0',\n",
      "             'result': {'engineType': 'UNDEF_MULTI_SENTENCE',\n",
      "                        'pivot': None,\n",
      "                        'srcLangType': 'ko',\n",
      "                        'tarLangType': 'vi',\n",
      "                        'translatedText': 'Cảm ơn.\\nXin chào.\\nhân hạnh'}}}\n"
     ]
    }
   ],
   "source": [
    "import os\n",
    "import sys\n",
    "import urllib.request\n",
    "from pprint import pprint\n",
    "import json\n",
    "\n",
    "#번연할 메모장 불러오기\n",
    "with open('memo.txt','r',encoding='utf8') as f:\n",
    "    srcText = f.read()\n",
    "\n",
    "client_id = \"_Mdi_ViEB9M8vnAs3cjZ\" # 개발자센터에서 발급받은 Client ID 값\n",
    "client_secret = \"cfVaPEhglz\" # 개발자센터에서 발급받은 Client Secret 값\n",
    "\n",
    "#encText = urllib.parse.quote(\"반갑습니다\")\n",
    "encText = urllib.parse.quote(srcText)\n",
    "data = \"source=ko&target=vi&text=\" + encText\n",
    "url = \"https://openapi.naver.com/v1/papago/n2mt\"\n",
    "request = urllib.request.Request(url)\n",
    "request.add_header(\"X-Naver-Client-Id\",client_id)\n",
    "request.add_header(\"X-Naver-Client-Secret\",client_secret)\n",
    "response = urllib.request.urlopen(request, data=data.encode(\"utf-8\"))\n",
    "rescode = response.getcode()\n",
    "if(rescode==200):\n",
    "    response_body = response.read()\n",
    "    print(response_body.decode('utf-8'))\n",
    "    \n",
    "    res = json.loads(response_body.decode('utf-8'))\n",
    "    pprint(res)\n",
    "    \n",
    "    with open('translate.txt','w',encoding='utf8') as f:\n",
    "        f.write(res['message']['result']['translatedText'])\n",
    "    \n",
    "else:\n",
    "    print(\"Error Code:\" + rescode)"
   ]
  },
  {
   "cell_type": "code",
   "execution_count": null,
   "metadata": {},
   "outputs": [],
   "source": []
  }
 ],
 "metadata": {
  "kernelspec": {
   "display_name": "Python 3",
   "language": "python",
   "name": "python3"
  },
  "language_info": {
   "codemirror_mode": {
    "name": "ipython",
    "version": 3
   },
   "file_extension": ".py",
   "mimetype": "text/x-python",
   "name": "python",
   "nbconvert_exporter": "python",
   "pygments_lexer": "ipython3",
   "version": "3.7.6"
  }
 },
 "nbformat": 4,
 "nbformat_minor": 4
}
