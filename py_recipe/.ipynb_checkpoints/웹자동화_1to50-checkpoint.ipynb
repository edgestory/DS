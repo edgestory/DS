{
 "cells": [
  {
   "cell_type": "code",
   "execution_count": 1,
   "metadata": {},
   "outputs": [],
   "source": [
    "from selenium import webdriver\n",
    "\n",
    "driver = webdriver.Chrome('chromedriver')\n",
    "driver.get('http://zzzscore.com/1to50')\n",
    "driver.implicitly_wait(300)\n"
   ]
  },
  {
   "cell_type": "code",
   "execution_count": 7,
   "metadata": {},
   "outputs": [],
   "source": [
    "#전역변수\n",
    "#현재 찾아야될 숫자\n",
    "num = 1\n",
    "\n",
    "def clickBtn():\n",
    "    global num\n",
    "    btns = driver.find_elements_by_xpath('//*[@id=\"grid\"]/div[*]')\n",
    "    #print(len(btns))\n",
    "    \n",
    "    for btn in btns:\n",
    "        print(btn.text, end='\\t')\n",
    "        if btn.text == str(num):\n",
    "            btn.click()\n",
    "            print(True)\n",
    "            num+=1\n",
    "            return"
   ]
  },
  {
   "cell_type": "code",
   "execution_count": 8,
   "metadata": {},
   "outputs": [
    {
     "name": "stdout",
     "output_type": "stream",
     "text": [
      "18\t7\t15\t4\t9\t16\t25\t23\t22\t12\t13\t8\t3\t20\t2\t1\tTrue\n",
      "18\t7\t15\t4\t9\t16\t25\t23\t22\t12\t13\t8\t3\t20\t2\tTrue\n",
      "18\t7\t15\t4\t9\t16\t25\t23\t22\t12\t13\t8\t3\tTrue\n",
      "18\t7\t15\t4\tTrue\n",
      "18\t7\t15\t4\t9\t16\t25\t23\t22\t12\t13\t8\t43\t20\t34\t31\t19\t11\t17\t21\t5\tTrue\n",
      "18\t7\t15\t42\t9\t16\t25\t23\t22\t12\t13\t8\t43\t20\t34\t31\t19\t11\t17\t21\t26\t10\t14\t6\tTrue\n",
      "18\t7\tTrue\n",
      "18\t7\t15\t42\t9\t16\t25\t23\t22\t12\t13\t8\tTrue\n",
      "18\t33\t15\t42\t9\tTrue\n",
      "18\t33\t15\t42\t9\t16\t25\t23\t22\t12\t13\t44\t43\t20\t34\t31\t19\t11\t17\t21\t26\t10\tTrue\n",
      "18\t33\t15\t42\t30\t16\t25\t23\t22\t12\t13\t44\t43\t20\t34\t31\t19\t11\tTrue\n",
      "18\t33\t15\t42\t30\t16\t25\t23\t22\t12\tTrue\n",
      "18\t33\t15\t42\t30\t16\t25\t23\t22\t32\t13\tTrue\n",
      "18\t33\t15\t42\t30\t16\t25\t23\t22\t32\t49\t44\t43\t20\t34\t31\t19\t40\t17\t21\t26\t50\t14\tTrue\n",
      "18\t33\t15\tTrue\n",
      "18\t33\t15\t42\t30\t16\tTrue\n",
      "18\t33\t41\t42\t30\t16\t25\t23\t22\t32\t49\t44\t43\t20\t34\t31\t19\t40\t17\tTrue\n",
      "18\tTrue\n",
      "18\t33\t41\t42\t30\t46\t25\t23\t22\t32\t49\t44\t43\t20\t34\t31\t19\tTrue\n",
      "29\t33\t41\t42\t30\t46\t25\t23\t22\t32\t49\t44\t43\t20\tTrue\n",
      "29\t33\t41\t42\t30\t46\t25\t23\t22\t32\t49\t44\t43\t36\t34\t31\t38\t40\t37\t21\tTrue\n",
      "29\t33\t41\t42\t30\t46\t25\t23\t22\tTrue\n",
      "29\t33\t41\t42\t30\t46\t25\t23\tTrue\n",
      "29\t33\t41\t42\t30\t46\t25\t\t35\t32\t49\t44\t43\t36\t34\t31\t38\t40\t37\t48\t26\t50\t28\t39\t24\tTrue\n",
      "29\t33\t41\t42\t30\t46\t25\tTrue\n",
      "29\t33\t41\t42\t30\t46\t25\t47\t35\t32\t49\t44\t43\t36\t34\t31\t38\t40\t37\t48\t26\tTrue\n",
      "29\t33\t41\t42\t30\t46\t45\t47\t35\t32\t49\t44\t43\t36\t34\t31\t38\t40\t37\t48\t50\t28\t39\t27\tTrue\n",
      "29\t33\t41\t42\t30\t46\t45\t47\t35\t32\t49\t44\t43\t36\t34\t31\t38\t40\t37\t48\t50\t28\tTrue\n",
      "29\tTrue\n",
      "33\t41\t42\t30\tTrue\n",
      "33\t41\t42\t46\t45\t47\t35\t32\t49\t44\t43\t36\t34\t31\tTrue\n",
      "33\t41\t42\t46\t45\t47\t35\t32\tTrue\n",
      "33\tTrue\n",
      "41\t42\t46\t45\t47\t35\t49\t44\t43\t36\t34\tTrue\n",
      "41\t42\t46\t45\t47\t35\tTrue\n",
      "41\t42\t46\t45\t47\t49\t44\t43\t36\tTrue\n",
      "41\t42\t46\t45\t47\t49\t44\t43\t38\t40\t37\tTrue\n",
      "41\t42\t46\t45\t47\t49\t44\t43\t38\tTrue\n",
      "41\t42\t46\t45\t47\t49\t44\t43\t40\t48\t50\t39\tTrue\n",
      "41\t42\t46\t45\t47\t49\t44\t43\t40\tTrue\n",
      "41\tTrue\n",
      "42\tTrue\n",
      "46\t45\t47\t49\t44\t43\tTrue\n",
      "46\t45\t47\t49\t44\tTrue\n",
      "46\t45\tTrue\n",
      "46\tTrue\n",
      "47\tTrue\n",
      "49\t48\tTrue\n",
      "49\tTrue\n",
      "50\tTrue\n"
     ]
    }
   ],
   "source": [
    "#메인코드\n",
    "while num<=50:\n",
    "    clickBtn()"
   ]
  },
  {
   "cell_type": "code",
   "execution_count": null,
   "metadata": {},
   "outputs": [],
   "source": []
  }
 ],
 "metadata": {
  "kernelspec": {
   "display_name": "Python 3",
   "language": "python",
   "name": "python3"
  },
  "language_info": {
   "codemirror_mode": {
    "name": "ipython",
    "version": 3
   },
   "file_extension": ".py",
   "mimetype": "text/x-python",
   "name": "python",
   "nbconvert_exporter": "python",
   "pygments_lexer": "ipython3",
   "version": "3.7.6"
  }
 },
 "nbformat": 4,
 "nbformat_minor": 4
}
