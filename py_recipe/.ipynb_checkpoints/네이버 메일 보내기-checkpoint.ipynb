{
 "cells": [
  {
   "cell_type": "code",
   "execution_count": 32,
   "metadata": {},
   "outputs": [
    {
     "name": "stdout",
     "output_type": "stream",
     "text": [
      "Content-Type: text/plain; charset=\"utf-8\"\n",
      "MIME-Version: 1.0\n",
      "Content-Transfer-Encoding: base64\n",
      "Subject: =?utf-8?b?66mU7J28IOygnOuqqQ==?=\n",
      "From: edgelab@naver.com\n",
      "To: jedgelab@gmail.com\n",
      "\n",
      "66mU7J28IOuCtOyaqQ==\n",
      "\n"
     ]
    }
   ],
   "source": [
    "import smtplib\n",
    "from email.mime.text import MIMEText\n",
    "\n",
    "#설정 정보\n",
    "sendEmail = \"edgelab@naver.com\" #보내는 이메일\n",
    "userid='edgelab'\n",
    "password = 'XQZM5V2XKKBM' #2단계 인증으로 애플리케이션 비밀번호 필요\n",
    "recvEmail = 'jedgelab@gmail.com' #받는 이메일\n",
    "\n",
    "smtpName = \"smtp.naver.com\" #smtp 서버 주소\n",
    "smtpPort = 587 #smtp포트번호\n",
    "\n",
    "\n",
    "#메일 내용 및 제목\n",
    "text = '메일 내용'\n",
    "msg = MIMEText(text)\n",
    "\n",
    "msg['Subject'] = '메일 제목'\n",
    "msg['From'] = sendEmail\n",
    "msg['To'] = recvEmail\n",
    "print(msg)"
   ]
  },
  {
   "cell_type": "code",
   "execution_count": 38,
   "metadata": {},
   "outputs": [],
   "source": [
    "#실제 메일 보내는 명령어\n",
    "s=smtplib.SMTP('smtp.naver.com', 587)  #메일 서버 연결\n",
    "s.starttls() #TLS 보안 처리\n",
    "s.ehlo() \n",
    "s.login(userid,password) \n",
    "s.sendmail(sendEmail, recvEmail, msg.as_string()) #메일 전송, 문자열로 변환\n",
    "s.close()"
   ]
  },
  {
   "cell_type": "code",
   "execution_count": null,
   "metadata": {},
   "outputs": [],
   "source": []
  }
 ],
 "metadata": {
  "kernelspec": {
   "display_name": "Python 3",
   "language": "python",
   "name": "python3"
  },
  "language_info": {
   "codemirror_mode": {
    "name": "ipython",
    "version": 3
   },
   "file_extension": ".py",
   "mimetype": "text/x-python",
   "name": "python",
   "nbconvert_exporter": "python",
   "pygments_lexer": "ipython3",
   "version": "3.7.6"
  }
 },
 "nbformat": 4,
 "nbformat_minor": 4
}
