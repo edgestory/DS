{
 "cells": [
  {
   "cell_type": "code",
   "execution_count": 27,
   "metadata": {},
   "outputs": [
    {
     "name": "stdout",
     "output_type": "stream",
     "text": [
      "Content-Type: text/plain; charset=\"utf-8\"\n",
      "MIME-Version: 1.0\n",
      "Content-Transfer-Encoding: base64\n",
      "Subject: =?utf-8?b?66mU7J28IOygnOuqqQ==?=\n",
      "From: jedgelab@gmail.com\n",
      "To: edgelab@naver.com\n",
      "\n",
      "66mU7J28IOuCtOyaqQ==\n",
      "\n"
     ]
    }
   ],
   "source": [
    "import smtplib\n",
    "from email.mime.text import MIMEText\n",
    "\n",
    "#설정 정보\n",
    "sendEmail = \"jedgelab@gmail.com\" #보내는 이메일\n",
    "password = 'the*dream' #비밀번호\n",
    "recvEmail = 'edgelab@naver.com' #받는 이메일\n",
    "\n",
    "smtpName = \"smtp.gmail.com\" #smtp 서버 주소\n",
    "smtpPort = 587 #smtp포트번호\n",
    "\n",
    "\n",
    "#메일 내용 및 제목\n",
    "text = '메일 내용'\n",
    "msg = MIMEText(text)\n",
    "\n",
    "msg['Subject'] = '메일 제목'\n",
    "msg['From'] = sendEmail\n",
    "msg['To'] = recvEmail\n",
    "print(msg)"
   ]
  },
  {
   "cell_type": "code",
   "execution_count": 28,
   "metadata": {},
   "outputs": [],
   "source": [
    "#실제 메일 보내는 명령어\n",
    "s=smtplib.SMTP(smtpName, smtpPort) #메일 서버 연결\n",
    "s.starttls() #TLS 보안ac 처리\n",
    "s.login(sendEmail, password) #로그인\n",
    "s.sendmail(sendEmail, recvEmail, msg.as_string()) #메일 전송, 문자열로 변환\n",
    "s.close()"
   ]
  },
  {
   "cell_type": "code",
   "execution_count": 30,
   "metadata": {},
   "outputs": [],
   "source": [
    "from email.mime.multipart import MIMEMultipart\n",
    "from email.mime.application import MIMEApplication\n",
    "\n",
    "#여러 MIME을 넣기 위한 MIMEMultipart객체 생성\n",
    "msg = MIMEMultipart()\n",
    "\n",
    "#본문 추가\n",
    "text = '여기가 내용'\n",
    "contentPart = MIMEText(text) #텍스트\n",
    "\n",
    "msg.attach(contentPart)\n",
    "\n",
    "#파일 추가\n",
    "etcFileName = 'text.txt'\n",
    "with open(etcFileName,'rb') as etcFD:\n",
    "    etcPart = MIMEApplication(etcFD.read())\n",
    "    #첨부파일의 정보를 헤더로 추가\n",
    "    etcPart.add_header('Content-Disposition','attachment',filename=etcFileName)\n",
    "    msg.attach(etcPart)\n",
    "    \n",
    "msg['Subject'] ='여기는 제목'\n",
    "msg['From'] = sendEmail\n",
    "msg['To'] = recvEmail\n",
    "\n",
    "s=smtplib.SMTP(smtpName, smtpPort)\n",
    "s.starttls()\n",
    "s.login(sendEmail, password)\n",
    "s.sendmail(sendEmail, recvEmail, msg.as_string())\n",
    "s.close()"
   ]
  },
  {
   "cell_type": "code",
   "execution_count": null,
   "metadata": {},
   "outputs": [],
   "source": []
  }
 ],
 "metadata": {
  "kernelspec": {
   "display_name": "Python 3",
   "language": "python",
   "name": "python3"
  },
  "language_info": {
   "codemirror_mode": {
    "name": "ipython",
    "version": 3
   },
   "file_extension": ".py",
   "mimetype": "text/x-python",
   "name": "python",
   "nbconvert_exporter": "python",
   "pygments_lexer": "ipython3",
   "version": "3.7.6"
  }
 },
 "nbformat": 4,
 "nbformat_minor": 4
}
